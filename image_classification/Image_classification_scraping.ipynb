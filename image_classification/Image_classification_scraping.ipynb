{
 "cells": [
  {
   "cell_type": "code",
   "execution_count": 2,
   "id": "14a99e05",
   "metadata": {},
   "outputs": [],
   "source": [
    "# Importing Required Libraries\n",
    "import pandas as pd\n",
    "import selenium\n",
    "from selenium import webdriver\n",
    "import time\n",
    "from selenium.common.exceptions import NoSuchElementException\n",
    "from selenium.webdriver.common.keys import Keys\n",
    "from selenium.webdriver.common.action_chains import ActionChains\n",
    "import requests\n",
    "import os"
   ]
  },
  {
   "cell_type": "code",
   "execution_count": 3,
   "id": "d66576dd",
   "metadata": {},
   "outputs": [],
   "source": [
    "# Creating an instance of webdriver\n",
    "driver=webdriver.Firefox(r'C:\\Users\\_Trojan_\\Downloads\\geckodriver-v0.29.1-win64')"
   ]
  },
  {
   "cell_type": "code",
   "execution_count": 4,
   "id": "69877738",
   "metadata": {},
   "outputs": [],
   "source": [
    "url_amzn=('https://www.amazon.in/')"
   ]
  },
  {
   "cell_type": "code",
   "execution_count": 6,
   "id": "295b7b3e",
   "metadata": {},
   "outputs": [],
   "source": [
    "def amazon_buy(url,product1,product2,product3):\n",
    "    \n",
    "    # Establishing Connection with the website\n",
    "    driver.get(url)\n",
    "    time.sleep(2) # pausing the code execution for 2 seconds for website to load\n",
    "    \n",
    "    product_list=[product1,product2,product3]\n",
    "    \n",
    "    for product in product_list:\n",
    "        # Creating object of the search bar by finding it through ID\n",
    "        srch_bar=driver.find_element_by_id('twotabsearchtextbox')\n",
    "\n",
    "        # Clearing the bar if there is any text in it\n",
    "        srch_bar.clear()\n",
    "\n",
    "        # Sending required product to the search bar\n",
    "        srch_bar.send_keys(product)\n",
    "\n",
    "        # Creating onject of the search button and sending click commamnd\n",
    "        srch_btn=driver.find_element_by_id('nav-search-submit-button')\n",
    "        srch_btn.click()\n",
    "        time.sleep(3)\n",
    "\n",
    "        # For extracting image urls\n",
    "        img_urls=[]\n",
    "\n",
    "        for i in range (0,8):\n",
    "\n",
    "            # Extracting URLs of all the images on the page\n",
    "\n",
    "            image=driver.find_elements_by_xpath(\"//img[@class='s-image']\")\n",
    "            for img in image:\n",
    "                source=img.get_attribute('src')\n",
    "                if source is not None:\n",
    "                    if (source[0:4]=='http'):\n",
    "                        img_urls.append(source)\n",
    "            try:\n",
    "                driver.find_element_by_xpath(\"//li[@class='a-last']/a\").click()\n",
    "                time.sleep(2)\n",
    "            except NoSuchElementException:\n",
    "                print('End of pages...')\n",
    "        time.sleep(1)\n",
    "        \n",
    "        # Creating Directory\n",
    "        prod_name = str(product).split()\n",
    "        prod_name = '_'.join(prod_name)\n",
    "        \n",
    "        directory = \"Image_Classification/\"+str(prod_name)\n",
    "        \n",
    "        if not os.path.exists(directory):\n",
    "            os.makedirs(directory)\n",
    "        \n",
    "        # Retrieving images in a directory we created\n",
    "        cnt=0\n",
    "        for image in img_urls:\n",
    "            response=requests.get(image)\n",
    "            file=open(r\"\"+str(directory)+\"/\"+str(prod_name)+\"_\"+str(cnt)+\".jpg\",\"wb\")\n",
    "            file.write(response.content)\n",
    "            cnt+=1\n",
    "        \n",
    "        # Printing Image count\n",
    "        \n",
    "        print('********************')\n",
    "        print(f\"\\n In {str.upper(prod_name)} folder there are {cnt} images. \\n\")\n",
    "        print('********************')"
   ]
  },
  {
   "cell_type": "code",
   "execution_count": 7,
   "id": "e9224f35",
   "metadata": {},
   "outputs": [
    {
     "name": "stdout",
     "output_type": "stream",
     "text": [
      "End of pages...\n",
      "End of pages...\n",
      "********************\n",
      "\n",
      " In SAREES folder there are 444 images. \n",
      "\n",
      "********************\n",
      "End of pages...\n",
      "End of pages...\n",
      "********************\n",
      "\n",
      " In MEN_JEANS folder there are 447 images. \n",
      "\n",
      "********************\n",
      "End of pages...\n",
      "End of pages...\n",
      "********************\n",
      "\n",
      " In MEN_TROUSERS folder there are 439 images. \n",
      "\n",
      "********************\n"
     ]
    }
   ],
   "source": [
    "amazon_buy(url_amzn,'sarees','men jeans','men trousers')"
   ]
  },
  {
   "cell_type": "code",
   "execution_count": null,
   "id": "3574217d",
   "metadata": {},
   "outputs": [],
   "source": []
  }
 ],
 "metadata": {
  "kernelspec": {
   "display_name": "Python 3 (ipykernel)",
   "language": "python",
   "name": "python3"
  },
  "language_info": {
   "codemirror_mode": {
    "name": "ipython",
    "version": 3
   },
   "file_extension": ".py",
   "mimetype": "text/x-python",
   "name": "python",
   "nbconvert_exporter": "python",
   "pygments_lexer": "ipython3",
   "version": "3.9.6"
  }
 },
 "nbformat": 4,
 "nbformat_minor": 5
}
